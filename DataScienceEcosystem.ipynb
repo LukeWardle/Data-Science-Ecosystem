{
 "cells": [
  {
   "cell_type": "markdown",
   "id": "a0416f64-57fc-4987-8fba-e128ecfc8fff",
   "metadata": {},
   "source": [
    "# Data Science Tools and Ecosystem"
   ]
  },
  {
   "cell_type": "markdown",
   "id": "2ad3492d-b50d-44a5-9e34-5185f6e5957a",
   "metadata": {},
   "source": [
    "## Author\n",
    "Luke Wardle"
   ]
  },
  {
   "cell_type": "markdown",
   "id": "ba9b5dc8-a119-4063-bd5d-6297dbac8c23",
   "metadata": {},
   "source": [
    "In this notebook, Data Science Tools and Ecocsystems are summarized."
   ]
  },
  {
   "cell_type": "markdown",
   "id": "aa103ae8-43fe-4278-8f97-319b47820eae",
   "metadata": {},
   "source": [
    "**Objectives:**\n",
    "* List popular languages in Data Science\n",
    "* List common libraries for Data Science\n",
    "* A table of Data Science Tools\n",
    "* Examples of arithmetic expressions in Python\n"
   ]
  },
  {
   "cell_type": "markdown",
   "id": "1a2d3ad5-286b-47c1-b9a3-35b83c68e816",
   "metadata": {},
   "source": [
    "Some of the popular languages that Data Scientists use are:\n",
    "1. Python\n",
    "2. R\n",
    "3. SQL"
   ]
  },
  {
   "cell_type": "markdown",
   "id": "c20ca996-5e70-4221-b0b9-2ea55e3f0ec6",
   "metadata": {},
   "source": [
    "Some of the commonly used libraries used for Data Scientists include:\n",
    "1. Pandas - This library provides data structures and functions needed for manipulating structured data. It provides tools for reading and writing data, handling   missing data, filtering data, and cleaning raw data.\n",
    "2. NumPy - Short for ‘Numerical Python’, NumPy is a library that provides support for large multi-dimensional arrays and matrices, along with a collection of mathematical functions to operate on these elements.\n",
    "3. Matplotlib - This is a plotting library that can create a wide range of static, animated, and interactive plots in a few lines of code. It’s great for making graphs and plots."
   ]
  },
  {
   "cell_type": "markdown",
   "id": "8cc328a7-c131-4f73-a72a-3d9867e964a8",
   "metadata": {},
   "source": [
    "| Data Science Tools |\n",
    "|--------------------|\n",
    "| Jupyter Notebook   |\n",
    "| RStudio            |\n",
    "| Anaconda           |"
   ]
  },
  {
   "cell_type": "markdown",
   "id": "668bc724-2849-4f07-b9b1-5a70a7bd913b",
   "metadata": {},
   "source": [
    "### Below are a few examples of evaluating arithmetic expressions in Python"
   ]
  },
  {
   "cell_type": "code",
   "execution_count": 4,
   "id": "458be926-99e4-4cb7-aa48-8fe9ff7542ce",
   "metadata": {
    "tags": []
   },
   "outputs": [
    {
     "data": {
      "text/plain": [
       "17"
      ]
     },
     "execution_count": 4,
     "metadata": {},
     "output_type": "execute_result"
    }
   ],
   "source": [
    "# This is a simple arithmetic expression to multiply then add integers\n",
    "(3*4)+5"
   ]
  },
  {
   "cell_type": "code",
   "execution_count": 5,
   "id": "ec04de59-19a3-48c1-b0e5-b0348fb8e9ec",
   "metadata": {
    "tags": []
   },
   "outputs": [
    {
     "data": {
      "text/plain": [
       "3.3333333333333335"
      ]
     },
     "execution_count": 5,
     "metadata": {},
     "output_type": "execute_result"
    }
   ],
   "source": [
    "# This will convert 200 minutes to hours by dividing by 60\n",
    "200/60"
   ]
  },
  {
   "cell_type": "code",
   "execution_count": null,
   "id": "72f81651-ced3-4a79-a8df-5ed984c7fabd",
   "metadata": {},
   "outputs": [],
   "source": []
  }
 ],
 "metadata": {
  "kernelspec": {
   "display_name": "Python 3 (ipykernel)",
   "language": "python",
   "name": "python3"
  },
  "language_info": {
   "codemirror_mode": {
    "name": "ipython",
    "version": 3
   },
   "file_extension": ".py",
   "mimetype": "text/x-python",
   "name": "python",
   "nbconvert_exporter": "python",
   "pygments_lexer": "ipython3",
   "version": "3.10.12"
  }
 },
 "nbformat": 4,
 "nbformat_minor": 5
}
